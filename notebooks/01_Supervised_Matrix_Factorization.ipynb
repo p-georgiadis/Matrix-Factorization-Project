{
 "cells": [
  {
   "cell_type": "code",
   "execution_count": 46,
   "id": "2977360207d770f5",
   "metadata": {
    "collapsed": false,
    "ExecuteTime": {
     "end_time": "2024-06-12T14:50:22.278982100Z",
     "start_time": "2024-06-12T14:50:22.271984Z"
    }
   },
   "outputs": [],
   "source": [
    "# Matrix Factorization Model\n",
    "\n",
    "# This notebook focuses on building and evaluating models for the BBC news classification task. We will explore two approaches:\n",
    "# 1. Non-Negative Matrix Factorization (NMF) combined with Logistic Regression.\n",
    "# 2. Logistic Regression using TF-IDF features.\n",
    "\n",
    "# We will compare the performance of these models on a validation set and prepare a submission for the test set.\n"
   ]
  },
  {
   "cell_type": "code",
   "execution_count": 47,
   "id": "65eb0013-f841-4b88-832b-748d39fb409d",
   "metadata": {
    "ExecuteTime": {
     "end_time": "2024-06-12T14:50:22.313986300Z",
     "start_time": "2024-06-12T14:50:22.276982200Z"
    }
   },
   "outputs": [],
   "source": [
    "import os\n",
    "import numpy as np\n",
    "import pandas as pd\n",
    "from sklearn.model_selection import train_test_split, GridSearchCV\n",
    "from sklearn.decomposition import NMF\n",
    "from sklearn.preprocessing import LabelEncoder\n",
    "from sklearn.linear_model import LogisticRegression\n",
    "from sklearn.metrics import accuracy_score, classification_report\n"
   ]
  },
  {
   "cell_type": "code",
   "execution_count": 48,
   "id": "56330a87-d69a-49c6-aaf1-e84693435481",
   "metadata": {
    "ExecuteTime": {
     "end_time": "2024-06-12T14:50:22.327982400Z",
     "start_time": "2024-06-12T14:50:22.302981Z"
    }
   },
   "outputs": [],
   "source": [
    "# Load the preprocessed data from the .npz file with allow_pickle=True\n",
    "npz_file_path = '../data/news/tfidf_data.npz'\n",
    "data = np.load(npz_file_path, allow_pickle=True)\n",
    "\n",
    "tfidf_train_data = data['tfidf_train_data']\n",
    "tfidf_train_indices = data['tfidf_train_indices']\n",
    "tfidf_train_indptr = data['tfidf_train_indptr']\n",
    "tfidf_train_shape = data['tfidf_train_shape']\n",
    "\n",
    "tfidf_test_data = data['tfidf_test_data']\n",
    "tfidf_test_indices = data['tfidf_test_indices']\n",
    "tfidf_test_indptr = data['tfidf_test_indptr']\n",
    "tfidf_test_shape = data['tfidf_test_shape']\n",
    "\n",
    "article_ids_train = data['article_ids_train']\n",
    "categories_train = data['categories_train']\n",
    "article_ids_test = data['article_ids_test']\n",
    "\n",
    "# Reconstruct the sparse matrices\n",
    "from scipy.sparse import csr_matrix\n",
    "tfidf_train = csr_matrix((tfidf_train_data, tfidf_train_indices, tfidf_train_indptr), shape=tfidf_train_shape)\n",
    "tfidf_test = csr_matrix((tfidf_test_data, tfidf_test_indices, tfidf_test_indptr), shape=tfidf_test_shape)\n",
    "\n"
   ]
  },
  {
   "cell_type": "code",
   "execution_count": 49,
   "id": "cacfca8e-2eef-4059-b670-e08f58eacbac",
   "metadata": {
    "ExecuteTime": {
     "end_time": "2024-06-12T14:50:22.334565Z",
     "start_time": "2024-06-12T14:50:22.324998900Z"
    }
   },
   "outputs": [],
   "source": [
    "# Splitting the data into training and validation sets\n",
    "X_train, X_val, y_train, y_val = train_test_split(tfidf_train, categories_train, test_size=0.2, random_state=42)\n"
   ]
  },
  {
   "cell_type": "code",
   "execution_count": 50,
   "id": "e37a9f67-a46b-461a-9299-a674276cfe24",
   "metadata": {
    "ExecuteTime": {
     "end_time": "2024-06-12T14:50:22.335564300Z",
     "start_time": "2024-06-12T14:50:22.331550700Z"
    }
   },
   "outputs": [],
   "source": [
    "# Encode labels\n",
    "label_encoder = LabelEncoder()\n",
    "y_train_encoded = label_encoder.fit_transform(y_train)\n",
    "y_val_encoded = label_encoder.transform(y_val)\n"
   ]
  },
  {
   "cell_type": "code",
   "execution_count": 51,
   "id": "c98ed953-39c7-4d99-ba8f-44137d2c2d50",
   "metadata": {
    "ExecuteTime": {
     "end_time": "2024-06-12T14:50:22.921431700Z",
     "start_time": "2024-06-12T14:50:22.334565Z"
    }
   },
   "outputs": [],
   "source": [
    "# Fit NMF on the TF-IDF train matrix\n",
    "nmf = NMF(n_components=20, random_state=42)\n",
    "W_train = nmf.fit_transform(X_train)\n",
    "H = nmf.components_\n",
    "\n",
    "# Transform validation set\n",
    "W_val = nmf.transform(X_val)"
   ]
  },
  {
   "cell_type": "code",
   "execution_count": 52,
   "id": "efe1f7f6-1c9b-41d7-b9c1-45aa6c12bad4",
   "metadata": {
    "ExecuteTime": {
     "end_time": "2024-06-12T14:50:24.388364200Z",
     "start_time": "2024-06-12T14:50:22.864881200Z"
    }
   },
   "outputs": [
    {
     "name": "stdout",
     "output_type": "stream",
     "text": [
      "Best parameters for Logistic Regression on NMF components:  {'C': 100, 'solver': 'lbfgs'}\n",
      "Best parameters for Logistic Regression on TF-IDF features:  {'C': 100, 'solver': 'liblinear'}\n"
     ]
    }
   ],
   "source": [
    "# Define the parameter grid for logistic regression\n",
    "param_grid = {\n",
    "    'C': [0.1, 1, 10, 100],\n",
    "    'solver': ['liblinear', 'lbfgs']\n",
    "}\n",
    "\n",
    "# Initialize logistic regression for NMF components\n",
    "lr_nmf = LogisticRegression(max_iter=1000)\n",
    "\n",
    "# Initialize GridSearchCV for logistic regression on NMF components\n",
    "grid_search_nmf = GridSearchCV(lr_nmf, param_grid, cv=5, scoring='accuracy')\n",
    "\n",
    "# Perform hyperparameter tuning\n",
    "grid_search_nmf.fit(W_train, y_train_encoded)\n",
    "\n",
    "# Get the best parameters\n",
    "best_params_nmf = grid_search_nmf.best_params_\n",
    "print(\"Best parameters for Logistic Regression on NMF components: \", best_params_nmf)\n",
    "\n",
    "# Train logistic regression with best parameters on NMF components\n",
    "lr_nmf_best = LogisticRegression(**best_params_nmf, max_iter=1000)\n",
    "lr_nmf_best.fit(W_train, y_train_encoded)\n",
    "\n",
    "# Predict on the validation set using the tuned model\n",
    "y_val_pred_nmf = lr_nmf_best.predict(W_val)\n",
    "y_val_pred_nmf_labels = label_encoder.inverse_transform(y_val_pred_nmf)\n",
    "\n",
    "# Define the parameter grid for logistic regression on TF-IDF features\n",
    "param_grid_tfidf = {\n",
    "    'C': [0.1, 1, 10, 100],\n",
    "    'solver': ['liblinear', 'lbfgs']\n",
    "}\n",
    "\n",
    "# Initialize logistic regression for TF-IDF features\n",
    "lr_tfidf = LogisticRegression(max_iter=1000)\n",
    "\n",
    "# Initialize GridSearchCV for logistic regression on TF-IDF features\n",
    "grid_search_tfidf = GridSearchCV(lr_tfidf, param_grid_tfidf, cv=5, scoring='accuracy')\n",
    "\n",
    "# Perform hyperparameter tuning\n",
    "grid_search_tfidf.fit(X_train, y_train_encoded)\n",
    "\n",
    "# Get the best parameters\n",
    "best_params_tfidf = grid_search_tfidf.best_params_\n",
    "print(\"Best parameters for Logistic Regression on TF-IDF features: \", best_params_tfidf)\n",
    "\n",
    "# Train logistic regression with best parameters on TF-IDF features\n",
    "lr_tfidf_best = LogisticRegression(**best_params_tfidf, max_iter=1000)\n",
    "lr_tfidf_best.fit(X_train, y_train_encoded)\n",
    "\n",
    "# Predict on the validation set using the tuned model\n",
    "y_val_pred_lr = lr_tfidf_best.predict(X_val)\n",
    "y_val_pred_lr_labels = label_encoder.inverse_transform(y_val_pred_lr)"
   ]
  },
  {
   "cell_type": "code",
   "execution_count": 53,
   "id": "03f41dd7-4e8a-4ffd-91f9-c58fa2d04cfd",
   "metadata": {
    "ExecuteTime": {
     "end_time": "2024-06-12T14:50:24.414392400Z",
     "start_time": "2024-06-12T14:50:24.388364200Z"
    }
   },
   "outputs": [
    {
     "name": "stdout",
     "output_type": "stream",
     "text": [
      "NMF + Logistic Regression\n",
      "Accuracy: 0.9629629629629629\n",
      "               precision    recall  f1-score   support\n",
      "\n",
      "     business       0.97      0.97      0.97        69\n",
      "entertainment       0.94      0.98      0.96        47\n",
      "     politics       0.98      0.94      0.96        54\n",
      "        sport       0.96      0.99      0.97        75\n",
      "         tech       0.96      0.92      0.94        52\n",
      "\n",
      "     accuracy                           0.96       297\n",
      "    macro avg       0.96      0.96      0.96       297\n",
      " weighted avg       0.96      0.96      0.96       297\n",
      "\n",
      "TF-IDF + Logistic Regression\n",
      "Accuracy: 0.9797979797979798\n",
      "               precision    recall  f1-score   support\n",
      "\n",
      "     business       0.97      0.99      0.98        69\n",
      "entertainment       1.00      0.96      0.98        47\n",
      "     politics       0.98      0.94      0.96        54\n",
      "        sport       0.99      1.00      0.99        75\n",
      "         tech       0.96      1.00      0.98        52\n",
      "\n",
      "     accuracy                           0.98       297\n",
      "    macro avg       0.98      0.98      0.98       297\n",
      " weighted avg       0.98      0.98      0.98       297\n"
     ]
    }
   ],
   "source": [
    "# Evaluate NMF + Logistic Regression\n",
    "print(\"NMF + Logistic Regression\")\n",
    "print(\"Accuracy:\", accuracy_score(y_val, y_val_pred_nmf_labels))\n",
    "print(classification_report(y_val, y_val_pred_nmf_labels))\n",
    "\n",
    "# Evaluate TF-IDF + Logistic Regression\n",
    "print(\"TF-IDF + Logistic Regression\")\n",
    "print(\"Accuracy:\", accuracy_score(y_val, y_val_pred_lr_labels))\n",
    "print(classification_report(y_val, y_val_pred_lr_labels))\n"
   ]
  },
  {
   "cell_type": "code",
   "execution_count": 54,
   "id": "c7f2d252-4932-4c25-a995-d73e2f05a911",
   "metadata": {
    "ExecuteTime": {
     "end_time": "2024-06-12T14:50:24.465364200Z",
     "start_time": "2024-06-12T14:50:24.412366200Z"
    }
   },
   "outputs": [
    {
     "name": "stdout",
     "output_type": "stream",
     "text": [
      "Submission file saved at: ../data/news/bbc_news_classification_submission.csv\n"
     ]
    }
   ],
   "source": [
    "# Predict on the test set using the chosen model (TF-IDF + Logistic Regression in this example)\n",
    "y_test_pred = lr_tfidf_best.predict(tfidf_test)\n",
    "y_test_pred_labels = label_encoder.inverse_transform(y_test_pred)\n",
    "\n",
    "# Prepare submission dataframe\n",
    "submission_df = pd.DataFrame({'ArticleId': article_ids_test, 'Category': y_test_pred_labels})\n",
    "\n",
    "# Save submission\n",
    "submission_file_path = '../data/news/bbc_news_classification_submission.csv'\n",
    "submission_df.to_csv(submission_file_path, index=False)\n",
    "print(\"Submission file saved at:\", submission_file_path)\n"
   ]
  }
 ],
 "metadata": {
  "kernelspec": {
   "display_name": "Python 3 (ipykernel)",
   "language": "python",
   "name": "python3"
  },
  "language_info": {
   "codemirror_mode": {
    "name": "ipython",
    "version": 3
   },
   "file_extension": ".py",
   "mimetype": "text/x-python",
   "name": "python",
   "nbconvert_exporter": "python",
   "pygments_lexer": "ipython3",
   "version": "3.10.12"
  }
 },
 "nbformat": 4,
 "nbformat_minor": 5
}
