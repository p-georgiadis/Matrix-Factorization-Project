{
 "cells": [
  {
   "cell_type": "code",
   "execution_count": 3,
   "id": "initial_id",
   "metadata": {
    "collapsed": true,
    "ExecuteTime": {
     "end_time": "2024-06-12T16:28:33.149267400Z",
     "start_time": "2024-06-12T16:28:33.120266900Z"
    }
   },
   "outputs": [],
   "source": [
    "# Import necessary libraries\n",
    "import pandas as pd\n",
    "import numpy as np\n",
    "from sklearn.decomposition import NMF\n",
    "from sklearn.metrics import mean_squared_error\n",
    "from scipy.sparse import csr_matrix"
   ]
  },
  {
   "cell_type": "code",
   "outputs": [],
   "source": [
    "# Load the data\n",
    "movies = pd.read_csv('../data/movies/movies.csv')\n",
    "train_ratings = pd.read_csv('../data/movies/train.csv')\n",
    "test_ratings = pd.read_csv('../data/movies/test.csv')\n",
    "users = pd.read_csv('../data/movies/users.csv')"
   ],
   "metadata": {
    "collapsed": false,
    "ExecuteTime": {
     "end_time": "2024-06-12T16:28:33.407090100Z",
     "start_time": "2024-06-12T16:28:33.152268700Z"
    }
   },
   "id": "46f461b8af09e33c",
   "execution_count": 4
  },
  {
   "cell_type": "code",
   "outputs": [],
   "source": [
    "# Ensure column names are consistent\n",
    "train_ratings.columns = ['uID', 'mID', 'rating']\n",
    "test_ratings.columns = ['uID', 'mID', 'rating']\n",
    "\n",
    "# Determine the number of unique users and movies\n",
    "n_users = max(train_ratings.uID.max(), test_ratings.uID.max())\n",
    "n_movies = max(train_ratings.mID.max(), test_ratings.mID.max())"
   ],
   "metadata": {
    "collapsed": false,
    "ExecuteTime": {
     "end_time": "2024-06-12T16:28:33.453090500Z",
     "start_time": "2024-06-12T16:28:33.353091100Z"
    }
   },
   "id": "3d3332d0556ce064",
   "execution_count": 5
  },
  {
   "cell_type": "code",
   "outputs": [
    {
     "name": "stdout",
     "output_type": "stream",
     "text": [
      "RMSE: 2.850333668998515\n"
     ]
    }
   ],
   "source": [
    "# Create a user-item interaction matrix\n",
    "user_item_matrix = np.zeros((n_users, n_movies))\n",
    "for line in train_ratings.itertuples():\n",
    "    user_item_matrix[line[1]-1, line[2]-1] = line[3]\n",
    "\n",
    "user_item_matrix = csr_matrix(user_item_matrix)\n",
    "\n",
    "# Apply NMF with increased max_iter to improve convergence\n",
    "n_components = 20\n",
    "nmf_model = NMF(n_components=n_components, init='random', random_state=42, max_iter=1000)\n",
    "W = nmf_model.fit_transform(user_item_matrix)\n",
    "H = nmf_model.components_\n",
    "\n",
    "# Predict the missing ratings\n",
    "predicted_ratings = np.dot(W, H)\n",
    "\n",
    "# Extract the predicted ratings for the test set\n",
    "test_ratings['predicted_rating'] = test_ratings.apply(lambda row: predicted_ratings[int(row.uID)-1, int(row.mID)-1], axis=1)\n",
    "\n",
    "# Calculate RMSE\n",
    "rmse = np.sqrt(mean_squared_error(test_ratings.rating, test_ratings.predicted_rating))\n",
    "print(f'RMSE: {rmse}')"
   ],
   "metadata": {
    "collapsed": false,
    "ExecuteTime": {
     "end_time": "2024-06-12T16:28:53.737441900Z",
     "start_time": "2024-06-12T16:28:33.392092400Z"
    }
   },
   "id": "8c38eca7daa33e98",
   "execution_count": 6
  }
 ],
 "metadata": {
  "kernelspec": {
   "display_name": "Python 3",
   "language": "python",
   "name": "python3"
  },
  "language_info": {
   "codemirror_mode": {
    "name": "ipython",
    "version": 2
   },
   "file_extension": ".py",
   "mimetype": "text/x-python",
   "name": "python",
   "nbconvert_exporter": "python",
   "pygments_lexer": "ipython2",
   "version": "2.7.6"
  }
 },
 "nbformat": 4,
 "nbformat_minor": 5
}
