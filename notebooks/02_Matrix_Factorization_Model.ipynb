{
 "cells": [
  {
   "cell_type": "code",
   "execution_count": 19,
   "id": "65eb0013-f841-4b88-832b-748d39fb409d",
   "metadata": {},
   "outputs": [],
   "source": [
    "import numpy as np\n",
    "from scipy import sparse\n",
    "import matplotlib.pyplot as plt\n",
    "import pandas as pd\n",
    "from sklearn.decomposition import NMF\n",
    "from sklearn.preprocessing import LabelEncoder\n",
    "from sklearn.metrics import accuracy_score\n",
    "import itertools\n",
    "%matplotlib inline"
   ]
  },
  {
   "cell_type": "code",
   "execution_count": 20,
   "id": "56330a87-d69a-49c6-aaf1-e84693435481",
   "metadata": {},
   "outputs": [],
   "source": [
    "# Load the data from the .npz file\n",
    "data = np.load('../data/news/tfidf_data.npz', allow_pickle=True)\n",
    "\n",
    "# Extract the datasets\n",
    "tfidf_train = sparse.csr_matrix((data['tfidf_train_data'], data['tfidf_train_indices'], data['tfidf_train_indptr']), shape=data['tfidf_train_shape'])\n",
    "tfidf_test = sparse.csr_matrix((data['tfidf_test_data'], data['tfidf_test_indices'], data['tfidf_test_indptr']), shape=data['tfidf_test_shape'])\n",
    "article_ids_train = data['article_ids_train']\n",
    "article_ids_test = data['article_ids_test']\n",
    "categories_train = data['categories_train']"
   ]
  },
  {
   "cell_type": "code",
   "execution_count": 21,
   "id": "cacfca8e-2eef-4059-b670-e08f58eacbac",
   "metadata": {},
   "outputs": [
    {
     "name": "stdout",
     "output_type": "stream",
     "text": [
      "Train matrix shape: (1484, 1000)\n",
      "Test matrix shape: (735, 1000)\n",
      "['tfidf_train_data', 'tfidf_train_indices', 'tfidf_train_indptr', 'tfidf_train_shape', 'tfidf_test_data', 'tfidf_test_indices', 'tfidf_test_indptr', 'tfidf_test_shape', 'article_ids_train', 'categories_train', 'article_ids_test']\n"
     ]
    }
   ],
   "source": [
    "# Displaying shape for train and test to ensure datasets are correct\n",
    "print(\"Train matrix shape:\", tfidf_train.shape)\n",
    "print(\"Test matrix shape:\", tfidf_test.shape)\n",
    "print(list(data.keys()))"
   ]
  },
  {
   "cell_type": "code",
   "execution_count": 22,
   "id": "e37a9f67-a46b-461a-9299-a674276cfe24",
   "metadata": {},
   "outputs": [],
   "source": [
    "# Initialize NMF model\n",
    "nmf = NMF(n_components=5, random_state=42)\n",
    "W_train = nmf.fit_transform(tfidf_train)\n",
    "W_test = nmf.transform(tfidf_test)"
   ]
  },
  {
   "cell_type": "code",
   "execution_count": 23,
   "id": "c98ed953-39c7-4d99-ba8f-44137d2c2d50",
   "metadata": {},
   "outputs": [],
   "source": [
    "# Function to predict dominant topic\n",
    "def predict(w_matrix):\n",
    "    return np.argmax(w_matrix, axis=1)\n",
    "\n",
    "# Encode the categories into integers\n",
    "encoder = LabelEncoder()\n",
    "categories_encoded = encoder.fit_transform(categories_train)\n",
    "predicted_topics_train = predict(W_train)\n",
    "\n",
    "# Function to find the best permutation of topic labels\n",
    "def label_permute(y_true, y_pred):\n",
    "    labels = np.unique(y_true)\n",
    "    perms = list(itertools.permutations(labels))\n",
    "    best_perm = None\n",
    "    best_acc = 0\n",
    "\n",
    "    for perm in perms:\n",
    "        permuted_labels = np.array([perm[label] for label in y_pred])\n",
    "        current_acc = accuracy_score(y_true, permuted_labels)\n",
    "        if current_acc > best_acc:\n",
    "            best_acc = current_acc\n",
    "            best_perm = perm\n",
    "\n",
    "    return best_perm, best_acc"
   ]
  },
  {
   "cell_type": "code",
   "execution_count": 24,
   "id": "efe1f7f6-1c9b-41d7-b9c1-45aa6c12bad4",
   "metadata": {},
   "outputs": [
    {
     "name": "stdout",
     "output_type": "stream",
     "text": [
      "Best Permutation: (2, 3, 1, 0, 4)\n",
      "Best Accuracy: 0.8928571428571429\n"
     ]
    }
   ],
   "source": [
    "# Perform label permutation to align predicted topics with actual categories\n",
    "best_permutation, best_accuracy = label_permute(categories_encoded, predicted_topics_train)\n",
    "\n",
    "print('Best Permutation:', best_permutation)\n",
    "print('Best Accuracy:', best_accuracy)"
   ]
  },
  {
   "cell_type": "code",
   "execution_count": null,
   "id": "03f41dd7-4e8a-4ffd-91f9-c58fa2d04cfd",
   "metadata": {},
   "outputs": [],
   "source": [
    "# Example of changing n_components for SVD\n",
    "components = [50, 100, 150, 200]\n",
    "mean_scores = []\n",
    "\n",
    "for n in components:\n",
    "    svd = TruncatedSVD(n_components=n)\n",
    "    X_train_reduced = svd.fit_transform(tfidf_train)\n",
    "    \n",
    "    # Define the classifier\n",
    "    classifier = LogisticRegression(max_iter=1000)\n",
    "    \n",
    "    # Perform cross-validation\n",
    "    scores = cross_val_score(classifier, X_train_reduced, categories_encoded, cv=5, scoring='accuracy')\n",
    "    mean_score = scores.mean()\n",
    "    mean_scores.append(mean_score)\n",
    "    print(f\"Mean accuracy for {n} components: {mean_score}\")\n",
    "\n",
    "plt.figure(figsize=(10, 5))\n",
    "plt.plot(components, mean_scores, marker='o')\n",
    "plt.title('Effect of Number of SVD Components on Cross-Validated Accuracy')\n",
    "plt.xlabel('Number of Components')\n",
    "plt.ylabel('Cross-Validated Accuracy')\n",
    "plt.grid(True)\n",
    "plt.show()"
   ]
  },
  {
   "cell_type": "code",
   "execution_count": null,
   "id": "c7f2d252-4932-4c25-a995-d73e2f05a911",
   "metadata": {},
   "outputs": [],
   "source": []
  }
 ],
 "metadata": {
  "kernelspec": {
   "display_name": "Python venv",
   "language": "python",
   "name": "venv"
  },
  "language_info": {
   "codemirror_mode": {
    "name": "ipython",
    "version": 3
   },
   "file_extension": ".py",
   "mimetype": "text/x-python",
   "name": "python",
   "nbconvert_exporter": "python",
   "pygments_lexer": "ipython3",
   "version": "3.10.12"
  }
 },
 "nbformat": 4,
 "nbformat_minor": 5
}
