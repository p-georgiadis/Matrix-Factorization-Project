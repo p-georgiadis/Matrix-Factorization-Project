{
 "cells": [
  {
   "cell_type": "code",
   "outputs": [],
   "source": [
    "# Matrix Factorization Model\n",
    "\n",
    "# This notebook focuses on building and evaluating models for the BBC news classification task. We will explore two approaches:\n",
    "# 1. Non-Negative Matrix Factorization (NMF) combined with Logistic Regression.\n",
    "# 2. Logistic Regression using TF-IDF features.\n",
    "\n",
    "# We will compare the performance of these models on a validation set and prepare a submission for the test set.\n"
   ],
   "metadata": {
    "collapsed": false,
    "ExecuteTime": {
     "end_time": "2024-06-11T14:33:52.511394500Z",
     "start_time": "2024-06-11T14:33:52.483399800Z"
    }
   },
   "id": "2977360207d770f5",
   "execution_count": 31
  },
  {
   "cell_type": "code",
   "outputs": [],
   "source": [
    "import os\n",
    "import numpy as np\n",
    "import pandas as pd\n",
    "from sklearn.model_selection import train_test_split\n",
    "from sklearn.decomposition import NMF\n",
    "from sklearn.preprocessing import LabelEncoder\n",
    "from sklearn.linear_model import LogisticRegression\n",
    "from sklearn.metrics import accuracy_score, classification_report\n"
   ],
   "metadata": {
    "ExecuteTime": {
     "end_time": "2024-06-11T14:33:52.536395500Z",
     "start_time": "2024-06-11T14:33:52.516393800Z"
    }
   },
   "id": "65eb0013-f841-4b88-832b-748d39fb409d",
   "execution_count": 32
  },
  {
   "cell_type": "code",
   "outputs": [],
   "source": [
    "# Load the preprocessed data from the .npz file with allow_pickle=True\n",
    "npz_file_path = '../data/news/tfidf_data.npz'\n",
    "data = np.load(npz_file_path, allow_pickle=True)\n",
    "\n",
    "tfidf_train_data = data['tfidf_train_data']\n",
    "tfidf_train_indices = data['tfidf_train_indices']\n",
    "tfidf_train_indptr = data['tfidf_train_indptr']\n",
    "tfidf_train_shape = data['tfidf_train_shape']\n",
    "\n",
    "tfidf_test_data = data['tfidf_test_data']\n",
    "tfidf_test_indices = data['tfidf_test_indices']\n",
    "tfidf_test_indptr = data['tfidf_test_indptr']\n",
    "tfidf_test_shape = data['tfidf_test_shape']\n",
    "\n",
    "article_ids_train = data['article_ids_train']\n",
    "categories_train = data['categories_train']\n",
    "article_ids_test = data['article_ids_test']\n",
    "\n",
    "# Reconstruct the sparse matrices\n",
    "from scipy.sparse import csr_matrix\n",
    "tfidf_train = csr_matrix((tfidf_train_data, tfidf_train_indices, tfidf_train_indptr), shape=tfidf_train_shape)\n",
    "tfidf_test = csr_matrix((tfidf_test_data, tfidf_test_indices, tfidf_test_indptr), shape=tfidf_test_shape)\n",
    "\n"
   ],
   "metadata": {
    "ExecuteTime": {
     "end_time": "2024-06-11T14:33:52.559397800Z",
     "start_time": "2024-06-11T14:33:52.542396400Z"
    }
   },
   "id": "56330a87-d69a-49c6-aaf1-e84693435481",
   "execution_count": 33
  },
  {
   "cell_type": "code",
   "outputs": [],
   "source": [
    "# Splitting the data into training and validation sets\n",
    "X_train, X_val, y_train, y_val = train_test_split(tfidf_train, categories_train, test_size=0.2, random_state=42)\n"
   ],
   "metadata": {
    "ExecuteTime": {
     "end_time": "2024-06-11T14:33:52.590627900Z",
     "start_time": "2024-06-11T14:33:52.562394500Z"
    }
   },
   "id": "cacfca8e-2eef-4059-b670-e08f58eacbac",
   "execution_count": 34
  },
  {
   "cell_type": "code",
   "execution_count": 35,
   "id": "e37a9f67-a46b-461a-9299-a674276cfe24",
   "metadata": {
    "ExecuteTime": {
     "end_time": "2024-06-11T14:33:52.593627500Z",
     "start_time": "2024-06-11T14:33:52.569398700Z"
    }
   },
   "outputs": [],
   "source": [
    "# Encode labels\n",
    "label_encoder = LabelEncoder()\n",
    "y_train_encoded = label_encoder.fit_transform(y_train)\n",
    "y_val_encoded = label_encoder.transform(y_val)\n"
   ]
  },
  {
   "cell_type": "code",
   "execution_count": 36,
   "id": "c98ed953-39c7-4d99-ba8f-44137d2c2d50",
   "metadata": {
    "ExecuteTime": {
     "end_time": "2024-06-11T14:33:53.066134900Z",
     "start_time": "2024-06-11T14:33:52.576395200Z"
    }
   },
   "outputs": [],
   "source": [
    "# Fit NMF on the TF-IDF train matrix\n",
    "nmf = NMF(n_components=20, random_state=42)\n",
    "W_train = nmf.fit_transform(X_train)\n",
    "H = nmf.components_\n",
    "\n",
    "# Transform validation set\n",
    "W_val = nmf.transform(X_val)\n",
    "\n",
    "# Use logistic regression on the NMF components\n",
    "lr = LogisticRegression(max_iter=1000)\n",
    "lr.fit(W_train, y_train_encoded)\n",
    "\n",
    "# Predict on the validation set\n",
    "y_val_pred_nmf = lr.predict(W_val)\n",
    "y_val_pred_nmf_labels = label_encoder.inverse_transform(y_val_pred_nmf)\n"
   ]
  },
  {
   "cell_type": "code",
   "execution_count": 37,
   "id": "efe1f7f6-1c9b-41d7-b9c1-45aa6c12bad4",
   "metadata": {
    "ExecuteTime": {
     "end_time": "2024-06-11T14:33:53.127315600Z",
     "start_time": "2024-06-11T14:33:53.065133500Z"
    }
   },
   "outputs": [],
   "source": [
    "# Train logistic regression on the original TF-IDF features\n",
    "lr_tfidf = LogisticRegression(max_iter=1000)\n",
    "lr_tfidf.fit(X_train, y_train_encoded)\n",
    "\n",
    "# Predict on the validation set\n",
    "y_val_pred_lr = lr_tfidf.predict(X_val)\n",
    "y_val_pred_lr_labels = label_encoder.inverse_transform(y_val_pred_lr)\n"
   ]
  },
  {
   "cell_type": "code",
   "execution_count": 38,
   "id": "03f41dd7-4e8a-4ffd-91f9-c58fa2d04cfd",
   "metadata": {
    "ExecuteTime": {
     "end_time": "2024-06-11T14:33:53.165353800Z",
     "start_time": "2024-06-11T14:33:53.127315600Z"
    }
   },
   "outputs": [
    {
     "name": "stdout",
     "output_type": "stream",
     "text": [
      "NMF + Logistic Regression\n",
      "Accuracy: 0.9023569023569024\n",
      "               precision    recall  f1-score   support\n",
      "\n",
      "     business       0.92      0.96      0.94        69\n",
      "entertainment       0.93      0.79      0.85        47\n",
      "     politics       0.84      0.89      0.86        54\n",
      "        sport       0.91      0.92      0.91        75\n",
      "         tech       0.92      0.92      0.92        52\n",
      "\n",
      "     accuracy                           0.90       297\n",
      "    macro avg       0.90      0.90      0.90       297\n",
      " weighted avg       0.90      0.90      0.90       297\n",
      "\n",
      "TF-IDF + Logistic Regression\n",
      "Accuracy: 0.9663299663299664\n",
      "               precision    recall  f1-score   support\n",
      "\n",
      "     business       0.94      0.99      0.96        69\n",
      "entertainment       1.00      0.91      0.96        47\n",
      "     politics       0.94      0.93      0.93        54\n",
      "        sport       0.99      1.00      0.99        75\n",
      "         tech       0.96      0.98      0.97        52\n",
      "\n",
      "     accuracy                           0.97       297\n",
      "    macro avg       0.97      0.96      0.96       297\n",
      " weighted avg       0.97      0.97      0.97       297\n"
     ]
    }
   ],
   "source": [
    "# Evaluate NMF + Logistic Regression\n",
    "print(\"NMF + Logistic Regression\")\n",
    "print(\"Accuracy:\", accuracy_score(y_val, y_val_pred_nmf_labels))\n",
    "print(classification_report(y_val, y_val_pred_nmf_labels))\n",
    "\n",
    "# Evaluate TF-IDF + Logistic Regression\n",
    "print(\"TF-IDF + Logistic Regression\")\n",
    "print(\"Accuracy:\", accuracy_score(y_val, y_val_pred_lr_labels))\n",
    "print(classification_report(y_val, y_val_pred_lr_labels))\n"
   ]
  },
  {
   "cell_type": "code",
   "execution_count": 39,
   "id": "c7f2d252-4932-4c25-a995-d73e2f05a911",
   "metadata": {
    "ExecuteTime": {
     "end_time": "2024-06-11T14:33:53.221372900Z",
     "start_time": "2024-06-11T14:33:53.165353800Z"
    }
   },
   "outputs": [
    {
     "name": "stdout",
     "output_type": "stream",
     "text": [
      "Submission file saved at: ../data/news/bbc_news_classification_submission.csv\n"
     ]
    }
   ],
   "source": [
    "# Predict on the test set using the chosen model (TF-IDF + Logistic Regression in this example)\n",
    "y_test_pred = lr_tfidf.predict(tfidf_test)\n",
    "y_test_pred_labels = label_encoder.inverse_transform(y_test_pred)\n",
    "\n",
    "# Prepare submission dataframe\n",
    "submission_df = pd.DataFrame({'ArticleId': article_ids_test, 'Category': y_test_pred_labels})\n",
    "\n",
    "# Save submission\n",
    "submission_file_path = '../data/news/bbc_news_classification_submission.csv'\n",
    "submission_df.to_csv(submission_file_path, index=False)\n",
    "print(\"Submission file saved at:\", submission_file_path)\n"
   ]
  }
 ],
 "metadata": {
  "kernelspec": {
   "display_name": "Python venv",
   "language": "python",
   "name": "venv"
  },
  "language_info": {
   "codemirror_mode": {
    "name": "ipython",
    "version": 3
   },
   "file_extension": ".py",
   "mimetype": "text/x-python",
   "name": "python",
   "nbconvert_exporter": "python",
   "pygments_lexer": "ipython3",
   "version": "3.10.12"
  }
 },
 "nbformat": 4,
 "nbformat_minor": 5
}
