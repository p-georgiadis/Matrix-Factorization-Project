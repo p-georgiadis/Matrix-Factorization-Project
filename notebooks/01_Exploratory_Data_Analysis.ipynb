{
 "cells": [
  {
   "cell_type": "code",
   "execution_count": 1,
   "id": "25f0e7df-6210-4bc6-ba9a-111b96e66bba",
   "metadata": {},
   "outputs": [],
   "source": [
    "import pandas as pd"
   ]
  },
  {
   "cell_type": "code",
   "execution_count": null,
   "id": "6874ce60-a53c-4ccc-8a09-1e5d2dd33266",
   "metadata": {},
   "outputs": [],
   "source": [
    "sample_solution = pd.read_csv('../data/news/BBC News Sample Solution.csv')\n",
    "train = pd.read_csv('../data/news/BBC News Train.csv')\n",
    "test = pd.read_csv('../data/news/BBC News Test.csv')"
   ]
  }
 ],
 "metadata": {
  "kernelspec": {
   "display_name": "Python venv",
   "language": "python",
   "name": "venv"
  },
  "language_info": {
   "codemirror_mode": {
    "name": "ipython",
    "version": 3
   },
   "file_extension": ".py",
   "mimetype": "text/x-python",
   "name": "python",
   "nbconvert_exporter": "python",
   "pygments_lexer": "ipython3",
   "version": "3.10.12"
  }
 },
 "nbformat": 4,
 "nbformat_minor": 5
}
